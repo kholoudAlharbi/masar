{
  "nbformat": 4,
  "nbformat_minor": 0,
  "metadata": {
    "colab": {
      "provenance": [],
      "authorship_tag": "ABX9TyPP46YHUAXncPhnla0hyjPQ",
      "include_colab_link": true
    },
    "kernelspec": {
      "name": "python3",
      "display_name": "Python 3"
    },
    "language_info": {
      "name": "python"
    }
  },
  "cells": [
    {
      "cell_type": "markdown",
      "metadata": {
        "id": "view-in-github",
        "colab_type": "text"
      },
      "source": [
        "<a href=\"https://colab.research.google.com/github/kholoudAlharbi/masar/blob/main/HW_2_If_condition.ipynb\" target=\"_parent\"><img src=\"https://colab.research.google.com/assets/colab-badge.svg\" alt=\"Open In Colab\"/></a>"
      ]
    },
    {
      "cell_type": "code",
      "execution_count": 52,
      "metadata": {
        "id": "Gbw8HyKQZyok"
      },
      "outputs": [],
      "source": [
        " def calculate_bouns(years,evalution):\n",
        "  if years <= 10:\n",
        "    if evaluation == \"Excellent\":\n",
        "      bonus_percentage = 0.10\n",
        "    elif evaluation == \"poor\":\n",
        "       bonus_percentage = 0.5\n",
        "    else:\n",
        "      bonus_percentage = 0\n",
        "  else:\n",
        "    if evaluation == \"Excellent\":\n",
        "      bonus_percentage = 0.20\n",
        "    elif evaluation == \"poor\":\n",
        "      bonus_percentage = 0.15\n",
        "    else:\n",
        "      bonus_percentage = 0\n",
        "  return bonus_percentage\n"
      ]
    },
    {
      "cell_type": "code",
      "source": [
        "\n",
        "years = 8\n",
        "evaluation = \"Excellent\"\n",
        "bonus_percentage = calculate_bouns (years,evalution)\n",
        "\n",
        "print(f\"bonus {bonus_percentage * 100}%\")\n",
        "\n"
      ],
      "metadata": {
        "colab": {
          "base_uri": "https://localhost:8080/"
        },
        "id": "7RjXsMkZhqjQ",
        "outputId": "b8f2c722-ee26-49cb-f5dc-1bfed77b1e07"
      },
      "execution_count": 53,
      "outputs": [
        {
          "output_type": "stream",
          "name": "stdout",
          "text": [
            "bonus 10.0%\n"
          ]
        }
      ]
    },
    {
      "cell_type": "code",
      "source": [
        "years = 12\n",
        "evalution = \"poor\"\n",
        "bonus_percentage = calculate_bouns(years,evaluation)\n",
        "print(f\"bonus {bonus_percentage * 100}\")"
      ],
      "metadata": {
        "colab": {
          "base_uri": "https://localhost:8080/"
        },
        "id": "DGt-7q1Flkyq",
        "outputId": "58f5e166-6732-4938-c17f-1d363fe4cdfb"
      },
      "execution_count": 56,
      "outputs": [
        {
          "output_type": "stream",
          "name": "stdout",
          "text": [
            "bonus 20.0\n"
          ]
        }
      ]
    }
  ]
}