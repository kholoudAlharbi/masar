{
  "nbformat": 4,
  "nbformat_minor": 0,
  "metadata": {
    "colab": {
      "provenance": [],
      "authorship_tag": "ABX9TyM3qVaI7xskF1SAtadQtYkC",
      "include_colab_link": true
    },
    "kernelspec": {
      "name": "python3",
      "display_name": "Python 3"
    },
    "language_info": {
      "name": "python"
    }
  },
  "cells": [
    {
      "cell_type": "markdown",
      "metadata": {
        "id": "view-in-github",
        "colab_type": "text"
      },
      "source": [
        "<a href=\"https://colab.research.google.com/github/kholoudAlharbi/masar/blob/main/first_code_masar.ipynb\" target=\"_parent\"><img src=\"https://colab.research.google.com/assets/colab-badge.svg\" alt=\"Open In Colab\"/></a>"
      ]
    },
    {
      "cell_type": "code",
      "execution_count": null,
      "metadata": {
        "colab": {
          "base_uri": "https://localhost:8080/"
        },
        "id": "h9N3NbUgOJoU",
        "outputId": "e78ef09f-65cd-4fec-8bbb-84c124a8862c"
      },
      "outputs": [
        {
          "output_type": "stream",
          "name": "stdout",
          "text": [
            "My name is kholoud\n"
          ]
        }
      ],
      "source": [
        "# الكود الاول مع منصة مسار البطلة\n",
        "\n",
        "name = 'kholoud'\n",
        "\n",
        "age = 35\n",
        "\n",
        "print('My name is ' + name)"
      ]
    }
  ]
}