{
  "nbformat": 4,
  "nbformat_minor": 0,
  "metadata": {
    "colab": {
      "provenance": [],
      "authorship_tag": "ABX9TyPNGOoolfA2vsfbB56+wMe2",
      "include_colab_link": true
    },
    "kernelspec": {
      "name": "python3",
      "display_name": "Python 3"
    },
    "language_info": {
      "name": "python"
    }
  },
  "cells": [
    {
      "cell_type": "markdown",
      "metadata": {
        "id": "view-in-github",
        "colab_type": "text"
      },
      "source": [
        "<a href=\"https://colab.research.google.com/github/kholoudAlharbi/masar/blob/main/Python_HW_1.ipynb\" target=\"_parent\"><img src=\"https://colab.research.google.com/assets/colab-badge.svg\" alt=\"Open In Colab\"/></a>"
      ]
    },
    {
      "cell_type": "code",
      "execution_count": 21,
      "metadata": {
        "colab": {
          "base_uri": "https://localhost:8080/"
        },
        "id": "tEEFRNLhQnj7",
        "outputId": "fe5a1ca2-0cd9-4636-e2e2-e1e8b84bef76"
      },
      "outputs": [
        {
          "output_type": "stream",
          "name": "stdout",
          "text": [
            "Hello my name is kholoud , and my age 30 , and i will become a great data scientist\n"
          ]
        }
      ],
      "source": [
        "x = \"kholoud\"\n",
        "b = 30\n",
        "\n",
        "print(f'Hello my name is {x} , and my age {b} , and i will become a great data scientist')"
      ]
    }
  ]
}