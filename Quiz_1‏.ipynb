{
  "nbformat": 4,
  "nbformat_minor": 0,
  "metadata": {
    "colab": {
      "provenance": [],
      "authorship_tag": "ABX9TyOgI7/gGvYcBkGLz+XPVAz9",
      "include_colab_link": true
    },
    "kernelspec": {
      "name": "python3",
      "display_name": "Python 3"
    },
    "language_info": {
      "name": "python"
    }
  },
  "cells": [
    {
      "cell_type": "markdown",
      "metadata": {
        "id": "view-in-github",
        "colab_type": "text"
      },
      "source": [
        "<a href=\"https://colab.research.google.com/github/kholoudAlharbi/masar/blob/main/Quiz_1%E2%80%8F.ipynb\" target=\"_parent\"><img src=\"https://colab.research.google.com/assets/colab-badge.svg\" alt=\"Open In Colab\"/></a>"
      ]
    },
    {
      "cell_type": "code",
      "execution_count": 1,
      "metadata": {
        "colab": {
          "base_uri": "https://localhost:8080/"
        },
        "id": "PrcpFRijIGHs",
        "outputId": "5b7ad7a0-73a3-4cf3-c203-8c426effbc8c"
      },
      "outputs": [
        {
          "output_type": "stream",
          "name": "stdout",
          "text": [
            "[0, 5]\n"
          ]
        }
      ],
      "source": [
        "def two_sum(nums, target):\n",
        "    num_dict = {}\n",
        "    for i, num in enumerate(nums):\n",
        "        difference = target - num\n",
        "        if difference in num_dict:\n",
        "            return [num_dict[difference], i]\n",
        "        num_dict[num] = i\n",
        "    return None\n",
        "nums = [2, 5, 11, 15,6,7,9,10]\n",
        "target = 9\n",
        "print(two_sum(nums, target))"
      ]
    }
  ]
}